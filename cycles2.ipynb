{
 "cells": [
  {
   "cell_type": "markdown",
   "metadata": {},
   "source": [
    "# задание 1"
   ]
  },
  {
   "cell_type": "code",
   "execution_count": 118,
   "metadata": {},
   "outputs": [
    {
     "name": "stdout",
     "output_type": "stream",
     "text": [
      "{98, 35, 15, 213, 54, 119}\n"
     ]
    }
   ],
   "source": [
    "ids = {'user1': [213, 213, 213, 15, 213], \n",
    "       'user2': [54, 54, 119, 119, 119], \n",
    "       'user3': [213, 98, 98, 35]}\n",
    "\n",
    "uniq = set()\n",
    "for n in ids.values():\n",
    "    for m in n:\n",
    "        uniq.add(m)\n",
    "print(uniq)\n"
   ]
  },
  {
   "cell_type": "markdown",
   "metadata": {},
   "source": [
    "# задание 2"
   ]
  },
  {
   "cell_type": "code",
   "execution_count": 160,
   "metadata": {},
   "outputs": [
    {
     "name": "stdout",
     "output_type": "stream",
     "text": [
      "Поисковых запросов из двух слов:  42.86 %\n",
      "Поисковых запросов из трех слов:  57.14 %\n"
     ]
    }
   ],
   "source": [
    "queries = [\n",
    "    'смотреть сериалы онлайн',\n",
    "    'новости спорта',\n",
    "    'афиша кино',\n",
    "    'курс доллара',\n",
    "    'сериалы этим летом',\n",
    "    'курс по питону',\n",
    "    'сериалы про спорт',\n",
    "]\n",
    "\n",
    "words2 = 0\n",
    "words3 = 0\n",
    "for words_que in queries:\n",
    "    if len(words_que.split()) == 2:\n",
    "        words2 += 1\n",
    "    else:\n",
    "        words3 += 1\n",
    "summ = words2 + words3\n",
    "print('Поисковых запросов из двух слов: ', round((words2 / summ)*100, 2), '%')\n",
    "print('Поисковых запросов из трех слов: ', round((words3 / summ)*100, 2), '%')"
   ]
  },
  {
   "cell_type": "markdown",
   "metadata": {},
   "source": [
    "# задание 3"
   ]
  },
  {
   "cell_type": "code",
   "execution_count": 197,
   "metadata": {},
   "outputs": [
    {
     "name": "stdout",
     "output_type": "stream",
     "text": [
      "vk : {'revenue': 103, 'cost': 98, 'ROI': 5.1}\n",
      "yandex : {'revenue': 179, 'cost': 153, 'ROI': 16.99}\n",
      "facebook : {'revenue': 103, 'cost': 110, 'ROI': -6.36}\n",
      "adwords : {'revenue': 35, 'cost': 34, 'ROI': 2.94}\n",
      "twitter : {'revenue': 11, 'cost': 24, 'ROI': -54.17}\n"
     ]
    }
   ],
   "source": [
    "results = {\n",
    "'vk': {'revenue': 103, 'cost': 98},\n",
    "'yandex': {'revenue': 179, 'cost': 153},\n",
    "'facebook': {'revenue': 103, 'cost': 110},\n",
    "'adwords': {'revenue': 35, 'cost': 34},\n",
    "'twitter': {'revenue': 11, 'cost': 24},\n",
    "}\n",
    "\n",
    "for key,value in results.items():\n",
    "    #print(('revenue'),value['revenue'])\n",
    "    #print(('cost'),value['cost'])\n",
    "    value['ROI']=round((value['revenue']/value['cost'] - 1)*100,2)\n",
    "    #print('ROI',value['ROI'])\n",
    "    print(key,':',value)"
   ]
  },
  {
   "cell_type": "markdown",
   "metadata": {},
   "source": [
    "# задание 4"
   ]
  },
  {
   "cell_type": "code",
   "execution_count": 254,
   "metadata": {},
   "outputs": [
    {
     "name": "stdout",
     "output_type": "stream",
     "text": [
      "vk\n"
     ]
    }
   ],
   "source": [
    "stats = {'facebook': 55, 'yandex': 115, 'vk': 120, 'google': 99, 'email': 42, 'ok': 98}\n",
    "max_st = max(stats.items())\n",
    "print(max(stats, key=stats.get))"
   ]
  }
 ],
 "metadata": {
  "kernelspec": {
   "display_name": "Python 3",
   "language": "python",
   "name": "python3"
  },
  "language_info": {
   "codemirror_mode": {
    "name": "ipython",
    "version": 3
   },
   "file_extension": ".py",
   "mimetype": "text/x-python",
   "name": "python",
   "nbconvert_exporter": "python",
   "pygments_lexer": "ipython3",
   "version": "3.8.5"
  }
 },
 "nbformat": 4,
 "nbformat_minor": 4
}

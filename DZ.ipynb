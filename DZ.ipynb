{
 "cells": [
  {
   "cell_type": "code",
   "execution_count": 119,
   "metadata": {},
   "outputs": [
    {
     "name": "stdout",
     "output_type": "stream",
     "text": [
      "Фразы равной длины\n"
     ]
    }
   ],
   "source": [
    "# Задание 1\n",
    "phrase_1 = 'привет'\n",
    "phrase_2 = 'привет'\n",
    "if phrase_1 < phrase_2:\n",
    "    print (\"Фраза 2 длиннее фразы 1\")\n",
    "elif phrase_1 > phrase_2:\n",
    "    print (\"Фраза 1 длиннее фразы 2\")\n",
    "elif phrase_1 == phrase_2:\n",
    "    print (\"Фразы равной длины\")"
   ]
  },
  {
   "cell_type": "code",
   "execution_count": 134,
   "metadata": {},
   "outputs": [
    {
     "name": "stdout",
     "output_type": "stream",
     "text": [
      "2021 не високосный\n"
     ]
    }
   ],
   "source": [
    "# Задание 2\n",
    "year = 2021\n",
    "\n",
    "if year % 400 == 0:\n",
    "    print(\"%d високосный\" %year)\n",
    "elif year % 100 == 0:\n",
    "    print(\"%d не високосный\" %year)\n",
    "elif year % 4 == 0:\n",
    "    print(\"%d високосный\" %year)\n",
    "else:\n",
    "    print(\"%d не високосный\" %year)"
   ]
  },
  {
   "cell_type": "code",
   "execution_count": 120,
   "metadata": {},
   "outputs": [
    {
     "name": "stdout",
     "output_type": "stream",
     "text": [
      "Введите день:10\n",
      "Введите месяц:2\n",
      "Знак зодиака:Водолей\n"
     ]
    }
   ],
   "source": [
    "# Задание 3\n",
    "day=int(input(\"Введите день:\"))\n",
    "month=int(input(\"Введите месяц:\"))\n",
    "\n",
    "if (day>=21 and day<=31 and month==3) or( month==4 and day>=1 and day<=19):\n",
    "   print(\"Знак зодиака:Овен\")\n",
    "\n",
    "elif (day>=20 and day<=30 and month==4) or( month==5 and day>=1 and day<=20):\n",
    "\n",
    "   print(\"Знак зодиака:Телец\")\n",
    "\n",
    "elif (day>=21 and day<=31 and month==5) or( month==6 and day>=1 and day<=21):\n",
    "\n",
    "   print(\"Знак зодиака:Близнецы\")\n",
    "\n",
    "elif (day>=22 and day<=30 and month==6) or( month==7 and day>=1 and day<=22):\n",
    "\n",
    "   print(\"Знак зодиака:Рак\")\n",
    "\n",
    "elif (day>=23 and day<=31 and month==7) or( month==8 and day>=1 and day<=22):\n",
    "\n",
    "   print(\"Знак зодиака:Лев\")\n",
    "\n",
    "elif (day>=23 and day<=31 and month==8) or( month==9 and day>=1 and day<=22):\n",
    "\n",
    "   print(\"Знак зодиака:Дева\")\n",
    "\n",
    "elif (day>=23 and day<=30 and month==9) or( month==10 and day>=1 and day<=23):\n",
    "\n",
    "   print(\"Знак зодиака:Весы\")\n",
    "\n",
    "elif (day>=24 and day<=31 and month==10) or( month==11 and day>=1 and day<=22):\n",
    "\n",
    "   print(\"Знак зодиака:Скорпион\")\n",
    "\n",
    "elif (day>=23 and day<=30 and month==11) or( month==12 and day>=1 and day<=21):\n",
    "\n",
    "   print(\"Знак зодиака:Стрелец\")\n",
    "\n",
    "elif (day>=22 and day<=31 and month==12) or( month==1 and day>=1 and day<=20):\n",
    "\n",
    "   print(\"Знак зодиака:Козерог\")\n",
    "\n",
    "elif (day>=21 and day<=31 and month==1) or( month==2 and day>=1 and day<=18):\n",
    "\n",
    "   print(\"Знак зодиака:Водолей\")\n",
    "\n",
    "elif (day>=19 and day<=29 and month==2) or( month==3 and day>=1 and day<=20):\n",
    "\n",
    "   print(\"Знак зодиака:Рыбы\")"
   ]
  },
  {
   "cell_type": "code",
   "execution_count": 200,
   "metadata": {},
   "outputs": [
    {
     "name": "stdout",
     "output_type": "stream",
     "text": [
      "Упаковка для лыж\n"
     ]
    }
   ],
   "source": [
    "# Задание 4\n",
    "width = 16\n",
    "length = 200\n",
    "height = 15\n",
    "\n",
    "if (width < 15 and length < 15 and height < 15):\n",
    "    print(\"Коробка №1\")\n",
    "    \n",
    "elif  (width == 15 and length == 15 and height == 15):   \n",
    "        print(\"Коробка №3\")\n",
    "           \n",
    "elif  (width == 16 and length == 16 and height == 16) or (width <50 and length <50 and height <50): \n",
    "        print(\"Коробка №2\")\n",
    "elif  (width <=50 and length >=200 and height <=50):   \n",
    "        print(\"Упаковка для лыж\")\n"
   ]
  },
  {
   "cell_type": "code",
   "execution_count": null,
   "metadata": {},
   "outputs": [],
   "source": []
  }
 ],
 "metadata": {
  "kernelspec": {
   "display_name": "Python 3",
   "language": "python",
   "name": "python3"
  }
 },
 "nbformat": 4,
 "nbformat_minor": 4
}
